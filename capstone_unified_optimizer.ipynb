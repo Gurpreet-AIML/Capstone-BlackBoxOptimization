{
 "cells": [
  {
   "cell_type": "markdown",
   "id": "debdac86",
   "metadata": {},
   "source": [
    "# Capstone Unified Bayesian Optimizer\n",
    "Use this notebook to optimize any of the 8 black-box functions using Bayesian Optimization."
   ]
  },
  {
   "cell_type": "code",
   "execution_count": null,
   "id": "9e033d81",
   "metadata": {},
   "outputs": [],
   "source": [
    "import numpy as np\n",
    "import matplotlib.pyplot as plt\n",
    "from sklearn.gaussian_process import GaussianProcessRegressor\n",
    "from sklearn.gaussian_process.kernels import Matern\n",
    "from scipy.stats import norm\n",
    "from pathlib import Path"
   ]
  },
  {
   "cell_type": "code",
   "execution_count": null,
   "id": "b5ccefd9",
   "metadata": {},
   "outputs": [],
   "source": [
    "# Select function number (1 to 8)\n",
    "function_number = 1  # Change to 2 for Function 2, ..., up to 8\n",
    "data_dir = Path(\".\")"
   ]
  },
  {
   "cell_type": "code",
   "execution_count": null,
   "id": "ffe48262",
   "metadata": {},
   "outputs": [],
   "source": [
    "# Resolve filenames\n",
    "if function_number == 8:\n",
    "    X = np.load(data_dir / \"initial_inputs.npy\")\n",
    "    Y = np.load(data_dir / \"initial_outputs.npy\")\n",
    "else:\n",
    "    X = np.load(data_dir / f\"initial_inputs_fn{function_number}.npy\")\n",
    "    Y = np.load(data_dir / f\"initial_outputs_fn{function_number}.npy\")"
   ]
  },
  {
   "cell_type": "code",
   "execution_count": null,
   "id": "51ce6c45",
   "metadata": {},
   "outputs": [],
   "source": [
    "# Optional: Add past queries if they match input dimension\n",
    "try:\n",
    "    import ast\n",
    "    with open(\"queries.txt\") as f:\n",
    "        queries = ast.literal_eval(f.read())\n",
    "    with open(\"observations.txt\") as f:\n",
    "        obs_lines = f.readlines()\n",
    "        observations = [ast.literal_eval(line.strip()) for line in obs_lines]\n",
    "\n",
    "    queries = [np.array(q).flatten() for q in queries]\n",
    "    observations = [np.array(y) for y in observations]\n",
    "\n",
    "    # Select function-specific observations\n",
    "    queried_X = []\n",
    "    queried_Y = []\n",
    "    for q, y in zip(queries, observations):\n",
    "        if len(q) == X.shape[1]:  # Match input dimension\n",
    "            queried_X.append(q)\n",
    "            queried_Y.append(y[function_number - 1])\n",
    "\n",
    "    if queried_X:\n",
    "        X = np.vstack([X, queried_X])\n",
    "        Y = np.concatenate([Y, queried_Y])\n",
    "        print(f\"✔ Added {len(queried_X)} queried points to initial data.\")\n",
    "except Exception as e:\n",
    "    print(\"⚠ Could not load additional queries:\", e)"
   ]
  },
  {
   "cell_type": "code",
   "execution_count": null,
   "id": "6f336475",
   "metadata": {},
   "outputs": [],
   "source": [
    "# Fit Gaussian Process\n",
    "kernel = Matern(nu=2.5)\n",
    "gp = GaussianProcessRegressor(kernel=kernel, normalize_y=True)\n",
    "gp.fit(X, Y)\n",
    "\n",
    "# Random candidates\n",
    "np.random.seed(42)\n",
    "X_candidates = np.random.uniform(0, 1, size=(1000, X.shape[1]))\n",
    "\n",
    "# Predict and compute Expected Improvement\n",
    "mu, sigma = gp.predict(X_candidates, return_std=True)\n",
    "y_max = np.max(Y)\n",
    "Z = (mu - y_max) / sigma\n",
    "ei = (mu - y_max) * norm.cdf(Z) + sigma * norm.pdf(Z)\n",
    "ei[sigma == 0.0] = 0\n",
    "\n",
    "# Suggest next X\n",
    "next_idx = np.argmax(ei)\n",
    "next_X = X_candidates[next_idx]\n",
    "\n",
    "print(f\"🎯 Suggested next X to query for Function {function_number}:\")\n",
    "print(next_X)\n",
    "\n",
    "# Plot EI\n",
    "plt.figure(figsize=(10, 4))\n",
    "plt.plot(ei, label='Expected Improvement')\n",
    "plt.title(f'Expected Improvement (Function {function_number})')\n",
    "plt.xlabel('Candidate Index')\n",
    "plt.ylabel('EI')\n",
    "plt.legend()\n",
    "plt.show()"
   ]
  }
 ],
 "metadata": {
  "kernelspec": {
   "display_name": "Python 3 (ipykernel)",
   "language": "python",
   "name": "python3"
  },
  "language_info": {
   "codemirror_mode": {
    "name": "ipython",
    "version": 3
   },
   "file_extension": ".py",
   "mimetype": "text/x-python",
   "name": "python",
   "nbconvert_exporter": "python",
   "pygments_lexer": "ipython3",
   "version": "3.12.7"
  }
 },
 "nbformat": 4,
 "nbformat_minor": 5
}
